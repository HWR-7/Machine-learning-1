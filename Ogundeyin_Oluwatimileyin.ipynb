{
  "cells": [
    {
      "cell_type": "markdown",
      "id": "108ce593-2c23-47b7-bc2e-f5b463ae8bca",
      "metadata": {
        "id": "108ce593-2c23-47b7-bc2e-f5b463ae8bca"
      },
      "source": [
        "### Data types and data structures assignment"
      ]
    },
    {
      "cell_type": "markdown",
      "source": [
        "#OGUNDEYIN OLUWATIMILEYIN OLUWATOFARATI 23/1203 IT(GROUP C)"
      ],
      "metadata": {
        "id": "xxhBIyz4pTyq"
      },
      "id": "xxhBIyz4pTyq"
    },
    {
      "cell_type": "markdown",
      "id": "0d4c7353-590f-43ad-8a1f-1f77687666f3",
      "metadata": {
        "id": "0d4c7353-590f-43ad-8a1f-1f77687666f3"
      },
      "source": [
        "### Integer"
      ]
    },
    {
      "cell_type": "code",
      "execution_count": null,
      "id": "d2e9a536-f3f3-4d1c-8c9c-01f5e5823568",
      "metadata": {
        "id": "d2e9a536-f3f3-4d1c-8c9c-01f5e5823568",
        "outputId": "60fd50dc-5b6b-4c44-bc6e-10d655d31259"
      },
      "outputs": [
        {
          "name": "stdout",
          "output_type": "stream",
          "text": [
            "13\n"
          ]
        }
      ],
      "source": [
        "n = 13\n",
        "print(n)"
      ]
    },
    {
      "cell_type": "markdown",
      "id": "b4609fef-646c-44e4-a113-361921e35cb5",
      "metadata": {
        "id": "b4609fef-646c-44e4-a113-361921e35cb5"
      },
      "source": [
        "### Float Numbers"
      ]
    },
    {
      "cell_type": "code",
      "execution_count": null,
      "id": "180cb764-e680-482b-8942-bcd131964c8e",
      "metadata": {
        "id": "180cb764-e680-482b-8942-bcd131964c8e",
        "outputId": "3e5fae55-e6fd-4301-ff42-9e716e402011"
      },
      "outputs": [
        {
          "name": "stdout",
          "output_type": "stream",
          "text": [
            "98.9\n"
          ]
        }
      ],
      "source": [
        "Score = 98.9\n",
        "print (Score)"
      ]
    },
    {
      "cell_type": "markdown",
      "id": "5ef9e9f9-87cd-46b1-acf6-a8c07aa7657a",
      "metadata": {
        "id": "5ef9e9f9-87cd-46b1-acf6-a8c07aa7657a"
      },
      "source": [
        "### Complex numbers"
      ]
    },
    {
      "cell_type": "code",
      "execution_count": null,
      "id": "7eaff96b-2df1-4717-9806-4ccbd00d6728",
      "metadata": {
        "id": "7eaff96b-2df1-4717-9806-4ccbd00d6728",
        "outputId": "6524210d-b879-410f-ae1c-0aa34be5e8e4"
      },
      "outputs": [
        {
          "name": "stdout",
          "output_type": "stream",
          "text": [
            "(28+45j)\n"
          ]
        }
      ],
      "source": [
        "S = 28 + 45j\n",
        "print(S)"
      ]
    },
    {
      "cell_type": "markdown",
      "id": "cc3ddc19-7c14-47c1-9bd6-74b12ef90254",
      "metadata": {
        "id": "cc3ddc19-7c14-47c1-9bd6-74b12ef90254"
      },
      "source": [
        "### String"
      ]
    },
    {
      "cell_type": "code",
      "execution_count": 2,
      "id": "d10f2547-6933-4485-95be-7a5ef7f020c1",
      "metadata": {
        "colab": {
          "base_uri": "https://localhost:8080/"
        },
        "id": "d10f2547-6933-4485-95be-7a5ef7f020c1",
        "outputId": "02a71bad-9bfd-4947-806a-ef5f595e12c2"
      },
      "outputs": [
        {
          "output_type": "stream",
          "name": "stdout",
          "text": [
            "Ogundeyin Oluwatimileyin\n"
          ]
        }
      ],
      "source": [
        "StudentName = \"Ogundeyin Oluwatimileyin\"\n",
        "print (StudentName)"
      ]
    },
    {
      "cell_type": "markdown",
      "id": "b2963829-858e-4fd0-9d09-e8058ae0e474",
      "metadata": {
        "id": "b2963829-858e-4fd0-9d09-e8058ae0e474"
      },
      "source": [
        "### Boolean"
      ]
    },
    {
      "cell_type": "code",
      "execution_count": null,
      "id": "b93dc3d2-e3f0-4542-97b3-91776e959a36",
      "metadata": {
        "id": "b93dc3d2-e3f0-4542-97b3-91776e959a36",
        "outputId": "6177b894-2a9a-41b2-d05d-136063d8e7cb"
      },
      "outputs": [
        {
          "name": "stdout",
          "output_type": "stream",
          "text": [
            "Are you okay?\n",
            "True\n"
          ]
        }
      ],
      "source": [
        "question = \"Are you okay?\"\n",
        "yes = True\n",
        "no = False\n",
        "print(question)\n",
        "print(yes)"
      ]
    },
    {
      "cell_type": "markdown",
      "id": "8ead5899-4e8c-4ad6-b7b0-20a72439b676",
      "metadata": {
        "id": "8ead5899-4e8c-4ad6-b7b0-20a72439b676"
      },
      "source": [
        "### Data Structures"
      ]
    },
    {
      "cell_type": "code",
      "execution_count": null,
      "id": "f7654771-b02a-464c-a19e-48588b5bc57a",
      "metadata": {
        "id": "f7654771-b02a-464c-a19e-48588b5bc57a"
      },
      "outputs": [],
      "source": [
        "#Lists, sets, tuples and dictionary!"
      ]
    },
    {
      "cell_type": "code",
      "execution_count": null,
      "id": "297c2a9d-ddef-4a3d-95d6-bd5a2ccc4abd",
      "metadata": {
        "id": "297c2a9d-ddef-4a3d-95d6-bd5a2ccc4abd",
        "outputId": "6fbdfaf7-612d-491b-8a40-c9a729e01581"
      },
      "outputs": [
        {
          "name": "stdout",
          "output_type": "stream",
          "text": [
            "[26, 45, 78, 66, 89, 87]\n"
          ]
        }
      ],
      "source": [
        "age = [26, 45, 78, 66, 89, 87]\n",
        "print(age)"
      ]
    },
    {
      "cell_type": "code",
      "execution_count": null,
      "id": "18e655b9-9be6-4214-81c0-1926e3cbf13a",
      "metadata": {
        "id": "18e655b9-9be6-4214-81c0-1926e3cbf13a",
        "outputId": "ab71a272-5554-4356-b066-6d14568a00d5"
      },
      "outputs": [
        {
          "name": "stdout",
          "output_type": "stream",
          "text": [
            "{33, 21, 54, 76, 77}\n"
          ]
        }
      ],
      "source": [
        "age = { 33, 76, 21, 77, 54, 77}\n",
        "print(age)"
      ]
    },
    {
      "cell_type": "code",
      "execution_count": null,
      "id": "a22b82ad-30c9-4c5c-8e10-569c3778751a",
      "metadata": {
        "id": "a22b82ad-30c9-4c5c-8e10-569c3778751a",
        "outputId": "11212cd4-cb22-4771-9563-037156edb39d"
      },
      "outputs": [
        {
          "name": "stdout",
          "output_type": "stream",
          "text": [
            "(34, 66, 21, 55, 12, 45)\n"
          ]
        }
      ],
      "source": [
        "number = (34, 66, 21, 55, 12, 45)\n",
        "print(number)"
      ]
    },
    {
      "cell_type": "code",
      "execution_count": 1,
      "id": "10111887-0ed0-4ffe-9c70-cecc8853cd0d",
      "metadata": {
        "colab": {
          "base_uri": "https://localhost:8080/"
        },
        "id": "10111887-0ed0-4ffe-9c70-cecc8853cd0d",
        "outputId": "0425279a-a604-49e8-d126-770a62d94910"
      },
      "outputs": [
        {
          "output_type": "stream",
          "name": "stdout",
          "text": [
            "dict_values(['Ogundeyin', 23, True])\n"
          ]
        }
      ],
      "source": [
        "studentInfo = {\n",
        "    \"name\": \"Ogundeyin\",\n",
        "    \"age \": 23,\n",
        "    \"is_studentInfo\": True\n",
        "}\n",
        "\n",
        "print(studentInfo.values())\n",
        "\n",
        ""
      ]
    },
    {
      "cell_type": "code",
      "execution_count": null,
      "id": "742d892c-9215-4183-9cf2-513f7733906f",
      "metadata": {
        "id": "742d892c-9215-4183-9cf2-513f7733906f"
      },
      "outputs": [],
      "source": []
    },
    {
      "cell_type": "code",
      "execution_count": null,
      "id": "338e1095-de8e-43d3-98eb-6bf187b67813",
      "metadata": {
        "id": "338e1095-de8e-43d3-98eb-6bf187b67813"
      },
      "outputs": [],
      "source": []
    }
  ],
  "metadata": {
    "kernelspec": {
      "display_name": "Python 3 (ipykernel)",
      "language": "python",
      "name": "python3"
    },
    "language_info": {
      "codemirror_mode": {
        "name": "ipython",
        "version": 3
      },
      "file_extension": ".py",
      "mimetype": "text/x-python",
      "name": "python",
      "nbconvert_exporter": "python",
      "pygments_lexer": "ipython3",
      "version": "3.13.7"
    },
    "colab": {
      "provenance": []
    }
  },
  "nbformat": 4,
  "nbformat_minor": 5
}